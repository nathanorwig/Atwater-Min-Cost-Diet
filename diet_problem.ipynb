{
 "cells": [
  {
   "cell_type": "markdown",
   "metadata": {},
   "source": [
    "## Introduction\n",
    "\n"
   ]
  },
  {
   "cell_type": "markdown",
   "metadata": {},
   "source": [
    "  We&rsquo;re thinking about the problem of finding the cheapest possible\n",
    "  nutritious diet.  Last time we argued that this problem could be\n",
    "  expressed as a *linear program*\n",
    "$$\n",
    "    \\min_x p'x\n",
    "$$\n",
    "such that\n",
    "$$\n",
    "   \\begin{bmatrix}\n",
    "      A\\\\\n",
    "      -A\n",
    "   \\end{bmatrix}x \\geq \\begin{bmatrix}\n",
    "                        b_{min}\\\\\n",
    "                        -b_{max}\n",
    "                      \\end{bmatrix},\n",
    "$$\n",
    "  where $p$ is a vector of prices, $A$ is a matrix that maps\n",
    "  vectors of quantities of food into vectors of nutrients, and where\n",
    "  $b_{min}$ and $b_{max}$ are respectively dietary minimums\n",
    "  and maximums of different nutrients.  We will sometimes stack the\n",
    "  last, obtaining\n",
    "  $$\n",
    "      b = \\begin{bmatrix}\n",
    "                        b_{min}\\\\\n",
    "                        -b_{max}\n",
    "                      \\end{bmatrix}.\n",
    "  $$\n",
    "\n",
    "Our job in this notebook: Specify the objects required by the linear\n",
    "program $(p,A,b)$, then have the computer solve the problem for us.\n",
    "\n"
   ]
  },
  {
   "cell_type": "markdown",
   "metadata": {},
   "source": [
    "## Setup\n",
    "\n"
   ]
  },
  {
   "cell_type": "markdown",
   "metadata": {},
   "source": [
    "We need some particular versions of the following modules;\n",
    "\n"
   ]
  },
  {
   "cell_type": "code",
   "execution_count": 1,
   "metadata": {},
   "outputs": [],
   "source": [
    "!pip install -r requirements.txt"
   ]
  },
  {
   "cell_type": "markdown",
   "metadata": {},
   "source": [
    "## USDA Food Central DataBase\n",
    "\n"
   ]
  },
  {
   "cell_type": "markdown",
   "metadata": {},
   "source": [
    "The USDA maintains a database of nutritional information, where\n",
    "  different kinds of food are identified by an FDC number.  They do\n",
    "  not provide any data on prices.  \n",
    "\n",
    "To look up nutritional information, use api provided by the USDA at\n",
    "[https://fdc.nal.usda.gov/](https://fdc.nal.usda.gov/).   You should sign up for a\n",
    "free api key (see directions on page), then add that key here in\n",
    "place of &ldquo;DEMO<sub>KEY</sub>&rdquo;.\n",
    "\n"
   ]
  },
  {
   "cell_type": "code",
   "execution_count": 1,
   "metadata": {},
   "outputs": [],
   "source": [
    "apikey = \"DEMO_KEY\"  # Replace with a real key!  \"DEMO_KEY\" will be slow..."
   ]
  },
  {
   "cell_type": "markdown",
   "metadata": {},
   "source": [
    "### Looking up foods\n",
    "\n"
   ]
  },
  {
   "cell_type": "markdown",
   "metadata": {},
   "source": [
    "I&rsquo;ve written a little module `fooddatacentral` with the methods\n",
    "\n",
    "-   `search`\n",
    "-   `nutrients`\n",
    "-   `units`\n",
    "\n"
   ]
  },
  {
   "cell_type": "markdown",
   "metadata": {},
   "source": [
    "### FDC Search\n",
    "\n"
   ]
  },
  {
   "cell_type": "markdown",
   "metadata": {},
   "source": [
    "Here&rsquo;s a little code to help look up FDC codes for foods of\n",
    "different descriptions.\n",
    "\n"
   ]
  },
  {
   "cell_type": "code",
   "execution_count": 1,
   "metadata": {},
   "outputs": [],
   "source": [
    "import fooddatacentral as fdc\n",
    "\n",
    "fdc.search(apikey,\"crunchy peanut butter\")"
   ]
  },
  {
   "cell_type": "markdown",
   "metadata": {},
   "source": [
    "### FDC Nutrients\n",
    "\n"
   ]
  },
  {
   "cell_type": "markdown",
   "metadata": {},
   "source": [
    "Once we know the `fdc_id` of a particular food we can look up a\n",
    "variety of information on it.  We start with nutrients\n",
    "\n"
   ]
  },
  {
   "cell_type": "code",
   "execution_count": 1,
   "metadata": {},
   "outputs": [],
   "source": [
    "id =     # Put an FDC ID HERE!\n",
    "fdc.nutrients(apikey,fdc_id=id)"
   ]
  },
  {
   "cell_type": "markdown",
   "metadata": {},
   "source": [
    "## Prices\n",
    "\n"
   ]
  },
  {
   "cell_type": "markdown",
   "metadata": {},
   "source": [
    "Now, let&rsquo;s begin thinking about constructing the objects we need for\n",
    "the linear program.  Start with specifying $p$, the vector of prices.  \n",
    "\n",
    "Also note that some kinds of foods need to have unit weights (in\n",
    "grams) supplied under &ldquo;Units&rdquo;; e.g., extra large eggs are taken to\n",
    "each weigh 56g.  These conversions can also often be found on the USDA\n",
    "FDC website.  \n",
    "\n",
    "Food is purchased in particular units (gallons, pounds, grams).  And\n",
    "in some cases the natural units are things like donuts or eggs, in\n",
    "which case we may need to define our  own units (see the example of\n",
    "&ldquo;xl<sub>egg</sub>&rdquo; below).  New units can be added to the file [./Data/food_units.txt](./Data/food_units.txt).\n",
    "\n"
   ]
  },
  {
   "cell_type": "markdown",
   "metadata": {},
   "source": [
    "### Example: My Shopping Trip\n",
    "\n"
   ]
  },
  {
   "cell_type": "markdown",
   "metadata": {},
   "source": [
    "Here&rsquo;s an example of describing some different kinds of food, along with\n",
    "data on food prices.  This is all just based on a trip I took to the\n",
    "grocery store, except that I&rsquo;ve used the USDA database to look up FDC\n",
    "numbers.  Note that we may need extra information to map some units\n",
    "into weights.  For example, I still need to weigh a crumpet.\n",
    "\n",
    "| Food|Quantity|Units|Price|Date|Location|FDC|\n",
    "| Milk, 2% fat|1|gallon|4.99|<span class=\"timestamp-wrapper\"><span class=\"timestamp\">[2019-09-14 Sat]</span></span>|Monterey Market, Berkeley|336075|\n",
    "| Eggs, extra large|12|xl<sub>egg</sub>|3.59|<span class=\"timestamp-wrapper\"><span class=\"timestamp\">[2019-09-14 Sat]</span></span>|Monterey Market, Berkeley|747997|\n",
    "| Crumpets|6|crumpet|3.19|<span class=\"timestamp-wrapper\"><span class=\"timestamp\">[2019-09-14 Sat]</span></span>|Monterey Market, Berkeley|547313|\n",
    "| Bananas|1|pound|3.15|<span class=\"timestamp-wrapper\"><span class=\"timestamp\">[2019-09-14 Sat]</span></span>|Monterey Market, Berkeley|173944|\n",
    "| Carrots, Organic|2|pound|2.29|<span class=\"timestamp-wrapper\"><span class=\"timestamp\">[2019-09-14 Sat]</span></span>|Monterey Market, Berkeley|170393|\n",
    "| Cauliflower|2.51|pound|4.24|<span class=\"timestamp-wrapper\"><span class=\"timestamp\">[2019-09-14 Sat]</span></span>|Monterey Market, Berkeley|169986|\n",
    "| Endive, Red|1.26|pound|6.27|<span class=\"timestamp-wrapper\"><span class=\"timestamp\">[2019-09-14 Sat]</span></span>|Monterey Market, Berkeley|168412|\n",
    "| Figs, black mission|1|pound|4.98|<span class=\"timestamp-wrapper\"><span class=\"timestamp\">[2019-09-14 Sat]</span></span>|Monterey Market, Berkeley|438223|\n",
    "| Leeks, Organic|1|pound|1.29|<span class=\"timestamp-wrapper\"><span class=\"timestamp\">[2019-09-14 Sat]</span></span>|Monterey Market, Berkeley|169246|\n",
    "| Lettuce, Little Gem|1|pound|5.98|<span class=\"timestamp-wrapper\"><span class=\"timestamp\">[2019-09-14 Sat]</span></span>|Monterey Market, Berkeley|342618|\n",
    "| Mushrooms, King Oyster|1|pound|12|<span class=\"timestamp-wrapper\"><span class=\"timestamp\">[2019-09-14 Sat]</span></span>|Monterey Market, Berkeley|342623|\n",
    "| Onion, yellow|1|pound|0.39|<span class=\"timestamp-wrapper\"><span class=\"timestamp\">[2019-09-14 Sat]</span></span>|Monterey Market, Berkeley|170000|\n",
    "| Orange juice|0.5|gallon|8.98|<span class=\"timestamp-wrapper\"><span class=\"timestamp\">[2019-09-14 Sat]</span></span>|Monterey Market, Berkeley|414575|\n",
    "| Parsnip|1|pound|1.98|<span class=\"timestamp-wrapper\"><span class=\"timestamp\">[2019-09-14 Sat]</span></span>|Monterey Market, Berkeley|170417|\n",
    "| Potato, marble mix|1|pound|2.59|<span class=\"timestamp-wrapper\"><span class=\"timestamp\">[2019-09-14 Sat]</span></span>|Monterey Market, Berkeley|170032|\n",
    "| Rhubarb|1|pound|1.84|<span class=\"timestamp-wrapper\"><span class=\"timestamp\">[2019-09-14 Sat]</span></span>|Monterey Market, Berkeley|167758|\n",
    "| Potato, russet|10|pound|2.98|<span class=\"timestamp-wrapper\"><span class=\"timestamp\">[2019-09-14 Sat]</span></span>|Monterey Market, Berkeley|170030|\n",
    "| Squash, Zucchini|1|pound|1.49|<span class=\"timestamp-wrapper\"><span class=\"timestamp\">[2019-09-14 Sat]</span></span>|Monterey Market, Berkeley|169291|\n",
    "\n"
   ]
  },
  {
   "cell_type": "markdown",
   "metadata": {},
   "source": [
    "### A Second Example: Villages in South India\n",
    "\n"
   ]
  },
  {
   "cell_type": "markdown",
   "metadata": {},
   "source": [
    "Information on prices for different goods is found in a collection\n",
    "  of `csv` files in [./Data](./Data).  You can generate additional files by\n",
    "  using a spreadsheet and exporting to the appropriate file format,\n",
    "  then putting that file in the [./Data>](./Data>)directory.  These files should\n",
    "  have the same columns and format as the example above.\n",
    "\n",
    "Here are some goods for which prices and quantities consumed were\n",
    "recorded in a survey conducted by the International Crops Research\n",
    "Institute of the Semi-Arid Tropics of several villages in South\n",
    "India in the 1970s & early 1980s.\n",
    "\n"
   ]
  },
  {
   "cell_type": "code",
   "execution_count": 1,
   "metadata": {},
   "outputs": [],
   "source": [
    "import pandas as pd\n",
    "\n",
    "df = pd.read_csv(\"./Data/icrisat_foods.csv\",   # Prices for food consumed in Indian ICRISAT villages\n",
    "                 dtype={'Price':float,\n",
    "                        'Quantity':float,\n",
    "                        'FDC':int})  \n",
    "df"
   ]
  },
  {
   "cell_type": "markdown",
   "metadata": {},
   "source": [
    "### Another Example: Stigler's Foods\n",
    "\n"
   ]
  },
  {
   "cell_type": "markdown",
   "metadata": {},
   "source": [
    "In his 1945 paper George Stigler constructed a subsistence diet\n",
    "chosen from 14 different goods (see Table B in [Stigler 1945](https://www.jstor.org/stable/pdf/1231810.pdf)), with\n",
    "prices reported for the years 1939 & 1944.  \n",
    "\n",
    "I&rsquo;ve looked up more recent prices for these same goods, and recorded\n",
    "these at\n",
    "[https://docs.google.com/spreadsheets/d/1ObK5N_5aVXzVHE7ZXWBg0kQvPS3k1enRwsUjhytwh5A/](https://docs.google.com/spreadsheets/d/1ObK5N_5aVXzVHE7ZXWBg0kQvPS3k1enRwsUjhytwh5A/).  \n",
    "\n",
    "The code below allows us to collect data on different kinds of food\n",
    "with their prices from google spreadsheets.\n",
    "\n",
    "In this case, we use a function from a module I&rsquo;ve written,\n",
    " `eep153_tools.read_sheets`, to read the price data for the\n",
    "Stigler goods.\n",
    "\n"
   ]
  },
  {
   "cell_type": "code",
   "execution_count": 1,
   "metadata": {},
   "outputs": [],
   "source": [
    "import pandas as pd\n",
    "from eep153_tools import read_sheets\n",
    "\n",
    "#### Need private keys from json file (we're authenticating using \"service accounts\")\n",
    "#!gpg --batch --passphrase \"SECRET PASSPHRASE\" -d ../students-9093fa174318.json.gpg > ../students-9093fa174318.json\n",
    "####\n",
    "\n",
    "df = read_sheets(\"1ObK5N_5aVXzVHE7ZXWBg0kQvPS3k1enRwsUjhytwh5A\",\n",
    "                 sheet=\"Table B\",\n",
    "                 json_creds='../students-9093fa174318.json')\n",
    "\n",
    "df"
   ]
  },
  {
   "cell_type": "markdown",
   "metadata": {},
   "source": [
    "### Units & Prices\n",
    "\n"
   ]
  },
  {
   "cell_type": "markdown",
   "metadata": {},
   "source": [
    "Now, the prices we observe can be for lots of different quantities and\n",
    " units.  The FDC database basically wants everything in either hundreds\n",
    " of grams (hectograms) or hundreds of milliliters (deciliters).  \n",
    "\n",
    "Sometimes this conversion is simple; if the price we observe is for\n",
    "something that weighs two kilograms, that&rsquo;s just 20 hectograms.\n",
    "Different systems of weights and volumes are also easy; a five pound\n",
    "bag of flour is approximately 22.68 hectograms.  \n",
    "\n",
    "Othertimes things are more complicated.  If you observe the price of a\n",
    "dozen donuts, that needs to be converted to hectograms, for example.  \n",
    "\n",
    "A function `units` in the [fdc](fooddatacentral.py) module accomplishes this conversion\n",
    "for many different units, using the `python` [pint module](https://pint.readthedocs.io/en/latest/).  A file\n",
    "[./Data/food<sub>units.txt</sub>](Data/food_units.txt) can be edited to deal with odd cases such as\n",
    "donuts, using a format described in the `pint` [documentation](https://pint.readthedocs.io/en/latest/defining.html). \n",
    "\n",
    "Here&rsquo;s an example of the usage of `fooddatacentral.units`:\n",
    "\n"
   ]
  },
  {
   "cell_type": "code",
   "execution_count": 1,
   "metadata": {},
   "outputs": [],
   "source": [
    "# Try your own quantities and units.\n",
    "# If units are missing try adding to ./Data/food_units.txt\n",
    "\n",
    "print(fdc.units(5,'lbs'))\n",
    "print(fdc.units(1,'gallon'))\n",
    "print(fdc.units(2,'tea_bag'))\n",
    "print(fdc.units(12,'donut'))"
   ]
  },
  {
   "cell_type": "markdown",
   "metadata": {},
   "source": [
    "Now, use the `units` function to convert all foods to either\n",
    " deciliters or hectograms, to match FDC database:\n",
    "\n"
   ]
  },
  {
   "cell_type": "code",
   "execution_count": 1,
   "metadata": {},
   "outputs": [],
   "source": [
    "# Convert food quantities to FDC units\n",
    "df['FDC Quantity'] = df[['Quantity','Units']].T.apply(lambda x : fdc.units(x['Quantity'],x['Units']))\n",
    "\n",
    "# Now divide price by the FDC Quantity to get, e.g., price per hectoliter\n",
    "df['FDC Price'] = df['Price']/df['FDC Quantity']\n",
    "\n",
    "df.dropna(how='any') # Drop food with any missing data\n",
    "\n",
    "# To use minimum price observed\n",
    "Prices = df.groupby('Food')['FDC Price'].min()\n",
    "\n",
    "Prices"
   ]
  },
  {
   "cell_type": "markdown",
   "metadata": {},
   "source": [
    "## Mapping to Nutrients\n",
    "\n"
   ]
  },
  {
   "cell_type": "markdown",
   "metadata": {},
   "source": [
    "Next we want to build the matrix $A$, which maps quantities of food\n",
    " into nutrients.  We have a list of foods with prices.  Do lookups on USDA database\n",
    " to get nutritional information.\n",
    "\n"
   ]
  },
  {
   "cell_type": "code",
   "execution_count": 1,
   "metadata": {},
   "outputs": [],
   "source": [
    "import fooddatacentral as fdc\n",
    "\n",
    "D = {}\n",
    "count = 0\n",
    "for food in  df.Food.tolist():\n",
    "    try:\n",
    "        FDC = df.loc[df.Food==food,:].FDC[count]\n",
    "        count+=1\n",
    "        D[food] = fdc.nutrients(apikey,FDC).Quantity\n",
    "    except AttributeError: \n",
    "        warnings.warn(\"Couldn't find FDC Code %s for food %s.\" % (food,FDC))        \n",
    "\n",
    "D = pd.DataFrame(D,dtype=float)\n",
    "\n",
    "D"
   ]
  },
  {
   "cell_type": "markdown",
   "metadata": {},
   "source": [
    "## Dietary Requirements\n",
    "\n"
   ]
  },
  {
   "cell_type": "markdown",
   "metadata": {},
   "source": [
    "We&rsquo;ve figured out some foods we can buy, the nutritional content of\n",
    "those foods, and  the price of the foods.  Now we need to say\n",
    "something about nutritional requirements, and construct the vectors\n",
    "$b_{min}$ and $b_{max}$.   Our data for this is based\n",
    "on  US government recommendations available at\n",
    "[https://www.dietaryguidelines.gov/sites/default/files/2019-05/2015-2020_Dietary_Guidelines.pdf](https://www.dietaryguidelines.gov/sites/default/files/2019-05/2015-2020_Dietary_Guidelines.pdf).\n",
    "Note that we&rsquo;ve tweaked the nutrient labels to match those in the FDC\n",
    "data.\n",
    "\n",
    "We&rsquo;ve broken down the requirements into three different tables.  The\n",
    "first is *minimum* quantities that we need to  satisfy.  For example,\n",
    "this table tells us that a 20 year-old female needs at least 46 grams\n",
    "of protein per day.\n",
    "\n"
   ]
  },
  {
   "cell_type": "code",
   "execution_count": 1,
   "metadata": {},
   "outputs": [],
   "source": [
    "bmin = pd.read_csv('./diet_minimums.csv').set_index('Nutrition').iloc[:,2:]\n",
    "bmin"
   ]
  },
  {
   "cell_type": "markdown",
   "metadata": {},
   "source": [
    "This next table specifies *maximum* quantities.  Our 20 year-old\n",
    "female shouldn&rsquo;t have more than 2300 milligrams of sodium per day.\n",
    "\n"
   ]
  },
  {
   "cell_type": "code",
   "execution_count": 1,
   "metadata": {},
   "outputs": [],
   "source": [
    "bmax = pd.read_csv('./diet_maximums.csv').set_index('Nutrition').iloc[:,2:]\n",
    "bmax"
   ]
  },
  {
   "cell_type": "markdown",
   "metadata": {},
   "source": [
    "## Putting it together\n",
    "\n"
   ]
  },
  {
   "cell_type": "markdown",
   "metadata": {},
   "source": [
    "Here we take the different pieces of the puzzle we&rsquo;ve developed and\n",
    "put them together in the form of a linear program we can solve.\n",
    "Recall that the mathematical problem we&rsquo;re trying to solve is\n",
    "$$\n",
    "    \\min_x p'x\n",
    "$$\n",
    "such that\n",
    "$$\n",
    "     Ax \\geq b\n",
    "$$\n",
    "\n"
   ]
  },
  {
   "cell_type": "markdown",
   "metadata": {},
   "source": [
    "### Objective function ($p$)\n",
    "\n"
   ]
  },
  {
   "cell_type": "markdown",
   "metadata": {},
   "source": [
    "If we buy a bag of groceries with quantities given by $x$, the total\n",
    "cost of the bag of groceries is the inner product of prices and\n",
    "quantities.  Since we&rsquo;ve converted our units above, this gives us a\n",
    "vector of prices where quantities are all in 100 g or ml units.\n",
    "\n"
   ]
  },
  {
   "cell_type": "code",
   "execution_count": 1,
   "metadata": {},
   "outputs": [],
   "source": [
    "p = Prices.apply(lambda x:x.magnitude).dropna()\n",
    "\n",
    "# Compile list that we have both prices and nutritional info for; drop if either missing\n",
    "use = list(set(p.index.tolist()).intersection(D.columns.tolist()))\n",
    "p = p[use]\n",
    "\n",
    "p"
   ]
  },
  {
   "cell_type": "markdown",
   "metadata": {},
   "source": [
    "### Nutrient Mapping Matrix ($A$)\n",
    "\n"
   ]
  },
  {
   "cell_type": "markdown",
   "metadata": {},
   "source": [
    "The matrix $A$ maps a bag of groceries $x$ into nutrients, but we\n",
    "don&rsquo;t need to keep track of nutrients for which we don&rsquo;t have\n",
    "contraints.\n",
    "\n"
   ]
  },
  {
   "cell_type": "code",
   "execution_count": 1,
   "metadata": {},
   "outputs": [],
   "source": [
    "# Drop nutritional information for foods we don't know the price of,\n",
    "# and replace missing nutrients with zeros.\n",
    "Aall = D[p.index].fillna(0)\n",
    "\n",
    "# Drop rows of A that we don't have constraints for.\n",
    "Amin = Aall.loc[bmin.index]\n",
    "\n",
    "Amax = Aall.loc[bmax.index]\n",
    "\n",
    "# Minimum requirements involve multiplying constraint by -1 to make <=.\n",
    "A = pd.concat([Amin,-Amax])\n",
    "\n",
    "A"
   ]
  },
  {
   "cell_type": "markdown",
   "metadata": {},
   "source": [
    "### Constraint vector ($b$)\n",
    "\n"
   ]
  },
  {
   "cell_type": "markdown",
   "metadata": {},
   "source": [
    "Finally, the right hand side vector $b$ in the expression\n",
    "$$\n",
    "    Ax\\geq b\n",
    "$$\n",
    "\n"
   ]
  },
  {
   "cell_type": "code",
   "execution_count": 1,
   "metadata": {},
   "outputs": [],
   "source": [
    "b = pd.concat([bmin,-bmax]) # Note sign change for max constraints\n",
    "\n",
    "b"
   ]
  },
  {
   "cell_type": "markdown",
   "metadata": {},
   "source": [
    "## Solving the problem\n",
    "\n"
   ]
  },
  {
   "cell_type": "markdown",
   "metadata": {},
   "source": [
    "First, we find a solution to the problem\n",
    "\n"
   ]
  },
  {
   "cell_type": "code",
   "execution_count": 1,
   "metadata": {},
   "outputs": [],
   "source": [
    "from  scipy.optimize import linprog as lp\n",
    "import numpy as np\n",
    "\n",
    "tol = 1e-6 # Numbers in solution smaller than this (in absolute value) treated as zeros\n",
    "\n",
    "## Choose sex/age group!\n",
    "group = \"F 19-30\"\n",
    "\n",
    "# Now solve problem!  (Note that the linear program solver we'll use assumes\n",
    "# \"less-than-or-equal\" constraints.  We can switch back and forth by\n",
    "# multiplying $A$ and $b$ by $-1$.)\n",
    "\n",
    "result = lp(p, -A, -b[group], method='interior-point')\n",
    "\n",
    "result"
   ]
  },
  {
   "cell_type": "markdown",
   "metadata": {},
   "source": [
    "Let&rsquo;s interpret this.  Start with the cost of the solution:\n",
    "\n"
   ]
  },
  {
   "cell_type": "code",
   "execution_count": 1,
   "metadata": {},
   "outputs": [],
   "source": [
    "print(\"Cost of diet for %s is $%4.2f per day.\" % (group,result.fun))"
   ]
  },
  {
   "cell_type": "markdown",
   "metadata": {},
   "source": [
    "Next, what is it we&rsquo;re actually eating?\n",
    "\n"
   ]
  },
  {
   "cell_type": "code",
   "execution_count": 1,
   "metadata": {},
   "outputs": [],
   "source": [
    "# Put back into nice series\n",
    "diet = pd.Series(result.x,index=p.index)\n",
    "\n",
    "print(\"\\nYou'll be eating (in 100s of grams or milliliters):\")\n",
    "print(diet[diet >= tol])  # Drop items with quantities less than precision of calculation."
   ]
  },
  {
   "cell_type": "markdown",
   "metadata": {},
   "source": [
    "Given this diet, what are nutritional outcomes?\n",
    "\n"
   ]
  },
  {
   "cell_type": "code",
   "execution_count": 1,
   "metadata": {},
   "outputs": [],
   "source": [
    "tab = pd.DataFrame({\"Outcome\":np.abs(A).dot(diet),\"Recommendation\":np.abs(b[group])})\n",
    "print(\"\\nWith the following nutritional outcomes of interest:\")\n",
    "tab"
   ]
  },
  {
   "cell_type": "markdown",
   "metadata": {},
   "source": [
    "Finally, what are the constraints that bind?  Finding a less expensive\n",
    "diet might involve finding less expensive sources for these particular nutrients.\n",
    "\n"
   ]
  },
  {
   "cell_type": "code",
   "execution_count": 1,
   "metadata": {},
   "outputs": [],
   "source": [
    "print(\"\\nConstraining nutrients are:\")\n",
    "excess = tab.diff(axis=1).iloc[:,1]\n",
    "print(excess.loc[np.abs(excess) < tol].index.tolist())"
   ]
  }
 ],
 "metadata": {
  "kernelspec": {
   "display_name": "Python 3",
   "language": "python",
   "name": "python3"
  },
  "language_info": {
   "codemirror_mode": {
    "name": "ipython",
    "version": 3
   },
   "file_extension": ".py",
   "mimetype": "text/x-python",
   "name": "python",
   "nbconvert_exporter": "python",
   "pygments_lexer": "ipython3",
   "version": "3.8.8"
  },
  "org": null
 },
 "nbformat": 4,
 "nbformat_minor": 1
}
